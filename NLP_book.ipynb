{
 "cells": [
  {
   "cell_type": "markdown",
   "id": "9806d6bd-931a-4694-abec-ab56e15f1f78",
   "metadata": {},
   "source": [
    "# Loading he book"
   ]
  },
  {
   "cell_type": "code",
   "execution_count": 1,
   "id": "a1017117-61c2-4801-8df2-94a1a1364930",
   "metadata": {},
   "outputs": [],
   "source": [
    "with open('miracle_in_the_andes.txt', 'r', encoding = 'utf-8')as file:\n",
    "    book = file.read()"
   ]
  },
  {
   "cell_type": "markdown",
   "id": "cc7aa3d6-7b82-4580-a182-6f3d2937c494",
   "metadata": {},
   "source": [
    "# The most used words"
   ]
  },
  {
   "cell_type": "code",
   "execution_count": 2,
   "id": "cfe04ec0-86e6-4cdd-a873-eaad2d95f9e7",
   "metadata": {},
   "outputs": [
    {
     "data": {
      "text/plain": [
       "['chapter', 'before', 'it', 'was', 'friday']"
      ]
     },
     "execution_count": 2,
     "metadata": {},
     "output_type": "execute_result"
    }
   ],
   "source": [
    "import re\n",
    "pattern = re.compile(\"[a-zA-Z]+\")\n",
    "findings = re.findall(pattern, book.lower())\n",
    "findings[:5]"
   ]
  },
  {
   "cell_type": "code",
   "execution_count": 3,
   "id": "e8d9e156-37ae-4e24-b536-e20ed58245bc",
   "metadata": {},
   "outputs": [],
   "source": [
    "d = {}\n",
    "for word in findings:\n",
    "    if word in d.keys():\n",
    "        d[word] = d[word]+1\n",
    "    else:\n",
    "     d[word]=1\n",
    "d_list = [(value, key) for (key,value) in d.items()]\n",
    "d_list = sorted(d_list, reverse = True)"
   ]
  },
  {
   "cell_type": "code",
   "execution_count": 4,
   "id": "3f7a2516-9414-4ebd-8150-b7862d908f8c",
   "metadata": {},
   "outputs": [
    {
     "data": {
      "text/plain": [
       "[(5346, 'the'), (2795, 'and'), (2729, 'i'), (2400, 'to'), (2060, 'of')]"
      ]
     },
     "execution_count": 4,
     "metadata": {},
     "output_type": "execute_result"
    }
   ],
   "source": [
    "d_list[:5]"
   ]
  },
  {
   "cell_type": "code",
   "execution_count": 8,
   "id": "57b5ea3a-ddad-4d5f-a93b-7e2c3c11268d",
   "metadata": {},
   "outputs": [],
   "source": [
    "import nltk"
   ]
  },
  {
   "cell_type": "code",
   "execution_count": 15,
   "id": "cd5eec75-4266-482b-8d13-0153ba467318",
   "metadata": {},
   "outputs": [],
   "source": [
    "from nltk.corpus import stopwords\n",
    "english_stopwords = stopwords.words('english')"
   ]
  },
  {
   "cell_type": "code",
   "execution_count": 17,
   "id": "d2b67bbc-e7fb-49a2-b7bf-f5c5cd9227bf",
   "metadata": {},
   "outputs": [],
   "source": [
    "filtered_words = []\n",
    "for count,word in d_list:\n",
    "    if word not in english_stopwords:\n",
    "        filtered_words.append((word,count))"
   ]
  },
  {
   "cell_type": "code",
   "execution_count": 20,
   "id": "90b0f1c1-2ffc-482e-bccb-8053b2263392",
   "metadata": {},
   "outputs": [
    {
     "data": {
      "text/plain": [
       "[('would', 575),\n",
       " ('us', 519),\n",
       " ('said', 292),\n",
       " ('roberto', 284),\n",
       " ('could', 252),\n",
       " ('one', 249),\n",
       " ('snow', 227),\n",
       " ('mountain', 183),\n",
       " ('time', 182),\n",
       " ('like', 165)]"
      ]
     },
     "execution_count": 20,
     "metadata": {},
     "output_type": "execute_result"
    }
   ],
   "source": [
    "filtered_words[:10]"
   ]
  },
  {
   "cell_type": "markdown",
   "id": "8490dad1-fb8f-49f0-ae20-3138ef4cb3e6",
   "metadata": {},
   "source": [
    "# sentiment analysis: what is the most positive and most negative chapter"
   ]
  },
  {
   "cell_type": "markdown",
   "id": "ed3cad5b-3231-4510-8a82-512faf98fc04",
   "metadata": {},
   "source": [
    "### An example"
   ]
  },
  {
   "cell_type": "code",
   "execution_count": 26,
   "id": "c8f6a749-7c06-4a54-981c-5b006cb8df68",
   "metadata": {},
   "outputs": [],
   "source": [
    "from nltk.sentiment import SentimentIntensityAnalyzer"
   ]
  },
  {
   "cell_type": "code",
   "execution_count": 27,
   "id": "f7c90058-8aab-418f-bdeb-0632e42397d0",
   "metadata": {},
   "outputs": [],
   "source": [
    "analyzer = SentimentIntensityAnalyzer()"
   ]
  },
  {
   "cell_type": "code",
   "execution_count": 29,
   "id": "b2b16ebc-4ced-4305-a56d-d73ffd338108",
   "metadata": {},
   "outputs": [],
   "source": [
    "score = analyzer.polarity_scores(\"Hey, look how beautiful the trees are. I love them\")"
   ]
  },
  {
   "cell_type": "code",
   "execution_count": 31,
   "id": "9e442a93-8db7-42c2-8d68-4d8efa2b1a1d",
   "metadata": {},
   "outputs": [
    {
     "name": "stdout",
     "output_type": "stream",
     "text": [
      "It is a positive text\n"
     ]
    }
   ],
   "source": [
    "if score['pos']>score['neg']:\n",
    "    print('It is a positive text')\n",
    "else:\n",
    "    print('It is a negative text')"
   ]
  },
  {
   "cell_type": "code",
   "execution_count": 33,
   "id": "2d68fd3f-f7bc-494d-ae2a-108660879784",
   "metadata": {},
   "outputs": [
    {
     "data": {
      "text/plain": [
       "{'neg': 0.116, 'neu': 0.76, 'pos': 0.125, 'compound': 1.0}"
      ]
     },
     "execution_count": 33,
     "metadata": {},
     "output_type": "execute_result"
    }
   ],
   "source": [
    "analyzer.polarity_scores(book)"
   ]
  },
  {
   "cell_type": "markdown",
   "id": "6b209728-39b3-4bb9-b899-c4f8ed2fec0e",
   "metadata": {},
   "source": [
    "### Chapter sentiment analysis"
   ]
  },
  {
   "cell_type": "code",
   "execution_count": 37,
   "id": "48d2bfa2-2e6a-4022-803d-7a07b11170ec",
   "metadata": {},
   "outputs": [],
   "source": [
    "import re\n",
    "pattern = re.compile('Chapter [0-9]+')\n",
    "chapters = re.split(pattern, book)"
   ]
  },
  {
   "cell_type": "code",
   "execution_count": 39,
   "id": "786b9586-872a-4cf0-92d1-b5709b7ffc5d",
   "metadata": {},
   "outputs": [],
   "source": [
    "chapters = chapters[1:]"
   ]
  },
  {
   "cell_type": "code",
   "execution_count": 44,
   "id": "e80e86b3-b66d-49e4-bd4f-48b803dd9021",
   "metadata": {},
   "outputs": [
    {
     "name": "stdout",
     "output_type": "stream",
     "text": [
      "1 {'neg': 0.061, 'neu': 0.779, 'pos': 0.16, 'compound': 1.0}\n",
      "2 {'neg': 0.12, 'neu': 0.726, 'pos': 0.154, 'compound': 0.9991}\n",
      "3 {'neg': 0.145, 'neu': 0.751, 'pos': 0.105, 'compound': -0.9999}\n",
      "4 {'neg': 0.141, 'neu': 0.721, 'pos': 0.138, 'compound': -0.9963}\n",
      "5 {'neg': 0.118, 'neu': 0.742, 'pos': 0.141, 'compound': 0.9997}\n",
      "6 {'neg': 0.124, 'neu': 0.761, 'pos': 0.115, 'compound': -0.9979}\n",
      "7 {'neg': 0.136, 'neu': 0.761, 'pos': 0.103, 'compound': -0.9999}\n",
      "8 {'neg': 0.12, 'neu': 0.786, 'pos': 0.094, 'compound': -0.9998}\n",
      "9 {'neg': 0.097, 'neu': 0.824, 'pos': 0.079, 'compound': -0.9996}\n",
      "10 {'neg': 0.086, 'neu': 0.733, 'pos': 0.181, 'compound': 1.0}\n"
     ]
    }
   ],
   "source": [
    "for nr, chapter in enumerate(chapters):\n",
    "    scores = analyzer.polarity_scores(chapter)\n",
    "    print(nr+1, scores)"
   ]
  },
  {
   "cell_type": "code",
   "execution_count": null,
   "id": "a9c053f2-f341-43b9-a124-620aa4521c2e",
   "metadata": {},
   "outputs": [],
   "source": []
  }
 ],
 "metadata": {
  "kernelspec": {
   "display_name": "Python 3 (ipykernel)",
   "language": "python",
   "name": "python3"
  },
  "language_info": {
   "codemirror_mode": {
    "name": "ipython",
    "version": 3
   },
   "file_extension": ".py",
   "mimetype": "text/x-python",
   "name": "python",
   "nbconvert_exporter": "python",
   "pygments_lexer": "ipython3",
   "version": "3.12.5"
  }
 },
 "nbformat": 4,
 "nbformat_minor": 5
}
